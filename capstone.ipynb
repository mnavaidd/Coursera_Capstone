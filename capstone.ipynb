{
  "nbformat": 4,
  "nbformat_minor": 0,
  "metadata": {
    "colab": {
      "name": "capstone.ipynb",
      "provenance": []
    },
    "kernelspec": {
      "name": "python3",
      "display_name": "Python 3"
    }
  },
  "cells": [
    {
      "cell_type": "markdown",
      "metadata": {
        "id": "5sSmsu_maYsj",
        "colab_type": "text"
      },
      "source": [
        "# Data Science specialization capstone project\n"
      ]
    },
    {
      "cell_type": "markdown",
      "metadata": {
        "id": "MJXWaw1EaeuF",
        "colab_type": "text"
      },
      "source": [
        "This notebook will be used for the capstone project"
      ]
    },
    {
      "cell_type": "code",
      "metadata": {
        "id": "dJoXN8e8aTtH",
        "colab_type": "code",
        "colab": {}
      },
      "source": [
        ""
      ],
      "execution_count": 0,
      "outputs": []
    },
    {
      "cell_type": "markdown",
      "metadata": {
        "id": "Ag97CtsoajQe",
        "colab_type": "text"
      },
      "source": [
        "## Import of libraries\n"
      ]
    },
    {
      "cell_type": "code",
      "metadata": {
        "id": "clzXoxicaoTh",
        "colab_type": "code",
        "colab": {}
      },
      "source": [
        "import pandas as pd\n",
        "import numpy as np"
      ],
      "execution_count": 0,
      "outputs": []
    },
    {
      "cell_type": "markdown",
      "metadata": {
        "id": "xH-XOm1Savlr",
        "colab_type": "text"
      },
      "source": [
        "# Week 1 assignment"
      ]
    },
    {
      "cell_type": "markdown",
      "metadata": {
        "id": "qQySKpj1a1Ez",
        "colab_type": "text"
      },
      "source": [
        "Print the following the statement: Hello Capstone Project Course!"
      ]
    },
    {
      "cell_type": "code",
      "metadata": {
        "id": "_OlF6Peoaq_k",
        "colab_type": "code",
        "colab": {
          "base_uri": "https://localhost:8080/",
          "height": 35
        },
        "outputId": "bd647371-aa43-4cd5-9004-11fc09d3ddb2"
      },
      "source": [
        "print(\"Hello Capstone Project Course!\")"
      ],
      "execution_count": 3,
      "outputs": [
        {
          "output_type": "stream",
          "text": [
            "Hello Capstone Project Course!\n"
          ],
          "name": "stdout"
        }
      ]
    },
    {
      "cell_type": "code",
      "metadata": {
        "id": "a1pOruLMazZ6",
        "colab_type": "code",
        "colab": {}
      },
      "source": [
        ""
      ],
      "execution_count": 0,
      "outputs": []
    }
  ]
}